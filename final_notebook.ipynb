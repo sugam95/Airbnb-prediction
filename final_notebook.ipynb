{
 "cells": [
  {
   "cell_type": "code",
   "execution_count": 5,
   "metadata": {
    "id": "7cNK1UecOWxo"
   },
   "outputs": [],
   "source": [
    "# importing the libraries\n",
    "import pandas as pd\n",
    "import pandas as pd\n",
    "import seaborn as sns\n",
    "import matplotlib.pyplot as plt\n",
    "import numpy as np\n",
    "import warnings\n",
    "warnings.filterwarnings(\"ignore\")\n",
    "from sklearn.feature_extraction.text import TfidfVectorizer\n",
    "from sklearn.feature_extraction.text import CountVectorizer\n",
    "from sklearn.preprocessing import OneHotEncoder\n",
    "from sklearn.model_selection import train_test_split"
   ]
  },
  {
   "cell_type": "code",
   "execution_count": 2,
   "metadata": {
    "colab": {
     "base_uri": "https://localhost:8080/"
    },
    "id": "OEtuWT46OqXl",
    "outputId": "c8ea78b2-49e7-45a8-d50e-f11b79aa2393"
   },
   "outputs": [
    {
     "name": "stdout",
     "output_type": "stream",
     "text": [
      "Mounted at /content/drive\n"
     ]
    }
   ],
   "source": [
    "from google.colab import drive\n",
    "drive.mount('/content/drive')"
   ]
  },
  {
   "cell_type": "code",
   "execution_count": 7,
   "metadata": {
    "colab": {
     "base_uri": "https://localhost:8080/",
     "height": 513
    },
    "id": "AFlUoWIZOWxw",
    "outputId": "0c3876b6-8efe-488b-aeac-23d902981a30"
   },
   "outputs": [
    {
     "name": "stdout",
     "output_type": "stream",
     "text": [
      "(73815, 20)\n"
     ]
    },
    {
     "data": {
      "text/html": [
       "<div>\n",
       "<style scoped>\n",
       "    .dataframe tbody tr th:only-of-type {\n",
       "        vertical-align: middle;\n",
       "    }\n",
       "\n",
       "    .dataframe tbody tr th {\n",
       "        vertical-align: top;\n",
       "    }\n",
       "\n",
       "    .dataframe thead th {\n",
       "        text-align: right;\n",
       "    }\n",
       "</style>\n",
       "<table border=\"1\" class=\"dataframe\">\n",
       "  <thead>\n",
       "    <tr style=\"text-align: right;\">\n",
       "      <th></th>\n",
       "      <th>user_id</th>\n",
       "      <th>gender</th>\n",
       "      <th>age</th>\n",
       "      <th>signup_method</th>\n",
       "      <th>signup_flow</th>\n",
       "      <th>language</th>\n",
       "      <th>affiliate_channel</th>\n",
       "      <th>affiliate_provider</th>\n",
       "      <th>signup_app</th>\n",
       "      <th>first_device_type</th>\n",
       "      <th>first_browser</th>\n",
       "      <th>country_destination</th>\n",
       "      <th>account_created_day</th>\n",
       "      <th>account_created_month</th>\n",
       "      <th>first_booking_day</th>\n",
       "      <th>first_booking_month</th>\n",
       "      <th>action</th>\n",
       "      <th>action_type</th>\n",
       "      <th>action_detail</th>\n",
       "      <th>secs_elapsed</th>\n",
       "    </tr>\n",
       "  </thead>\n",
       "  <tbody>\n",
       "    <tr>\n",
       "      <th>0</th>\n",
       "      <td>d1mm9tcy42</td>\n",
       "      <td>MALE</td>\n",
       "      <td>62.0</td>\n",
       "      <td>basic</td>\n",
       "      <td>0</td>\n",
       "      <td>en</td>\n",
       "      <td>sem_non_brand</td>\n",
       "      <td>google</td>\n",
       "      <td>Web</td>\n",
       "      <td>Windows_Desktop</td>\n",
       "      <td>Chrome</td>\n",
       "      <td>other</td>\n",
       "      <td>1</td>\n",
       "      <td>1</td>\n",
       "      <td>4.0</td>\n",
       "      <td>1.0</td>\n",
       "      <td>show  show  social_connections  show  reviews...</td>\n",
       "      <td>view  view  data  view  data  view  view  dat...</td>\n",
       "      <td>user_profile  user_profile  user_social_conne...</td>\n",
       "      <td>9304.728972</td>\n",
       "    </tr>\n",
       "    <tr>\n",
       "      <th>1</th>\n",
       "      <td>yo8nz8bqcq</td>\n",
       "      <td>unknown</td>\n",
       "      <td>32.0</td>\n",
       "      <td>basic</td>\n",
       "      <td>0</td>\n",
       "      <td>en</td>\n",
       "      <td>direct</td>\n",
       "      <td>direct</td>\n",
       "      <td>Web</td>\n",
       "      <td>Mac_Desktop</td>\n",
       "      <td>Firefox</td>\n",
       "      <td>NDF</td>\n",
       "      <td>1</td>\n",
       "      <td>1</td>\n",
       "      <td>0.0</td>\n",
       "      <td>0.0</td>\n",
       "      <td>create  search  reviews  show  social_connect...</td>\n",
       "      <td>submit  click  data  view  data  view  click ...</td>\n",
       "      <td>create_user  view_search_results  listing_rev...</td>\n",
       "      <td>24191.942529</td>\n",
       "    </tr>\n",
       "    <tr>\n",
       "      <th>2</th>\n",
       "      <td>4grx6yxeby</td>\n",
       "      <td>unknown</td>\n",
       "      <td>32.0</td>\n",
       "      <td>basic</td>\n",
       "      <td>0</td>\n",
       "      <td>en</td>\n",
       "      <td>sem_brand</td>\n",
       "      <td>google</td>\n",
       "      <td>Web</td>\n",
       "      <td>Windows_Desktop</td>\n",
       "      <td>Firefox</td>\n",
       "      <td>NDF</td>\n",
       "      <td>1</td>\n",
       "      <td>1</td>\n",
       "      <td>0.0</td>\n",
       "      <td>0.0</td>\n",
       "      <td>update  manage_listing  manage_listing  index...</td>\n",
       "      <td>submit  view  view  view  data  view  click  ...</td>\n",
       "      <td>update_listing  manage_listing  manage_listin...</td>\n",
       "      <td>33019.116279</td>\n",
       "    </tr>\n",
       "    <tr>\n",
       "      <th>3</th>\n",
       "      <td>ncf87guaf0</td>\n",
       "      <td>unknown</td>\n",
       "      <td>32.0</td>\n",
       "      <td>basic</td>\n",
       "      <td>0</td>\n",
       "      <td>en</td>\n",
       "      <td>direct</td>\n",
       "      <td>direct</td>\n",
       "      <td>Web</td>\n",
       "      <td>Windows_Desktop</td>\n",
       "      <td>Chrome</td>\n",
       "      <td>NDF</td>\n",
       "      <td>1</td>\n",
       "      <td>1</td>\n",
       "      <td>0.0</td>\n",
       "      <td>0.0</td>\n",
       "      <td>show  show  social_connections  active  revie...</td>\n",
       "      <td>view  view  data  -unknown-  data  view  data...</td>\n",
       "      <td>p3  user_profile  user_social_connections  -u...</td>\n",
       "      <td>7480.190476</td>\n",
       "    </tr>\n",
       "    <tr>\n",
       "      <th>4</th>\n",
       "      <td>4rvqpxoh3h</td>\n",
       "      <td>unknown</td>\n",
       "      <td>32.0</td>\n",
       "      <td>basic</td>\n",
       "      <td>25</td>\n",
       "      <td>en</td>\n",
       "      <td>direct</td>\n",
       "      <td>direct</td>\n",
       "      <td>iOS</td>\n",
       "      <td>iPhone</td>\n",
       "      <td>unknown</td>\n",
       "      <td>GB</td>\n",
       "      <td>1</td>\n",
       "      <td>1</td>\n",
       "      <td>2.0</td>\n",
       "      <td>1.0</td>\n",
       "      <td>index  show  similar_listings_v2  ajax_refres...</td>\n",
       "      <td>view  view  view  click  view  data  view  vi...</td>\n",
       "      <td>view_search_results  p3  view_search_results ...</td>\n",
       "      <td>52411.625000</td>\n",
       "    </tr>\n",
       "  </tbody>\n",
       "</table>\n",
       "</div>"
      ],
      "text/plain": [
       "      user_id  ...  secs_elapsed\n",
       "0  d1mm9tcy42  ...   9304.728972\n",
       "1  yo8nz8bqcq  ...  24191.942529\n",
       "2  4grx6yxeby  ...  33019.116279\n",
       "3  ncf87guaf0  ...   7480.190476\n",
       "4  4rvqpxoh3h  ...  52411.625000\n",
       "\n",
       "[5 rows x 20 columns]"
      ]
     },
     "execution_count": 7,
     "metadata": {
      "tags": []
     },
     "output_type": "execute_result"
    }
   ],
   "source": [
    "train=pd.read_csv(\"/content/drive/MyDrive/My /csv_files/final_train.csv\")\n",
    "print(train.shape)\n",
    "train.head(5)"
   ]
  },
  {
   "cell_type": "code",
   "execution_count": 8,
   "metadata": {
    "colab": {
     "base_uri": "https://localhost:8080/",
     "height": 151
    },
    "id": "ofNeQqjzOWxx",
    "outputId": "3d434f67-d8be-4a7e-b49d-093be3721f38"
   },
   "outputs": [
    {
     "data": {
      "text/html": [
       "<div>\n",
       "<style scoped>\n",
       "    .dataframe tbody tr th:only-of-type {\n",
       "        vertical-align: middle;\n",
       "    }\n",
       "\n",
       "    .dataframe tbody tr th {\n",
       "        vertical-align: top;\n",
       "    }\n",
       "\n",
       "    .dataframe thead th {\n",
       "        text-align: right;\n",
       "    }\n",
       "</style>\n",
       "<table border=\"1\" class=\"dataframe\">\n",
       "  <thead>\n",
       "    <tr style=\"text-align: right;\">\n",
       "      <th></th>\n",
       "      <th>user_id</th>\n",
       "      <th>gender</th>\n",
       "      <th>age</th>\n",
       "      <th>signup_method</th>\n",
       "      <th>signup_flow</th>\n",
       "      <th>language</th>\n",
       "      <th>affiliate_channel</th>\n",
       "      <th>affiliate_provider</th>\n",
       "      <th>signup_app</th>\n",
       "      <th>first_device_type</th>\n",
       "      <th>first_browser</th>\n",
       "      <th>account_created_day</th>\n",
       "      <th>account_created_month</th>\n",
       "      <th>first_booking_day</th>\n",
       "      <th>first_booking_month</th>\n",
       "      <th>action</th>\n",
       "      <th>action_type</th>\n",
       "      <th>action_detail</th>\n",
       "      <th>secs_elapsed</th>\n",
       "    </tr>\n",
       "  </thead>\n",
       "  <tbody>\n",
       "    <tr>\n",
       "      <th>0</th>\n",
       "      <td>d1mm9tcy42</td>\n",
       "      <td>MALE</td>\n",
       "      <td>62.0</td>\n",
       "      <td>basic</td>\n",
       "      <td>0</td>\n",
       "      <td>en</td>\n",
       "      <td>sem_non_brand</td>\n",
       "      <td>google</td>\n",
       "      <td>Web</td>\n",
       "      <td>Windows_Desktop</td>\n",
       "      <td>Chrome</td>\n",
       "      <td>1</td>\n",
       "      <td>1</td>\n",
       "      <td>4.0</td>\n",
       "      <td>1.0</td>\n",
       "      <td>show  show  social_connections  show  reviews...</td>\n",
       "      <td>view  view  data  view  data  view  view  dat...</td>\n",
       "      <td>user_profile  user_profile  user_social_conne...</td>\n",
       "      <td>9304.728972</td>\n",
       "    </tr>\n",
       "  </tbody>\n",
       "</table>\n",
       "</div>"
      ],
      "text/plain": [
       "      user_id  ... secs_elapsed\n",
       "0  d1mm9tcy42  ...  9304.728972\n",
       "\n",
       "[1 rows x 19 columns]"
      ]
     },
     "execution_count": 8,
     "metadata": {
      "tags": []
     },
     "output_type": "execute_result"
    }
   ],
   "source": [
    "y = train['country_destination'].values\n",
    "X= train.drop(['country_destination'], axis=1)\n",
    "X.head(1)"
   ]
  },
  {
   "cell_type": "code",
   "execution_count": null,
   "metadata": {
    "colab": {
     "base_uri": "https://localhost:8080/"
    },
    "id": "zveBiMNWOWxy",
    "outputId": "cfde28b3-e09f-414a-ff06-ec05a3aa55c8"
   },
   "outputs": [
    {
     "data": {
      "text/plain": [
       "(73815, 19)"
      ]
     },
     "execution_count": 5,
     "metadata": {
      "tags": []
     },
     "output_type": "execute_result"
    }
   ],
   "source": [
    "X.shape"
   ]
  },
  {
   "cell_type": "code",
   "execution_count": 9,
   "metadata": {
    "colab": {
     "base_uri": "https://localhost:8080/",
     "height": 530
    },
    "id": "GZ7wlAMVOWxy",
    "outputId": "a235c5a0-6c7e-4809-b952-71ec7a5f25db"
   },
   "outputs": [
    {
     "name": "stdout",
     "output_type": "stream",
     "text": [
      "(61668, 19)\n"
     ]
    },
    {
     "data": {
      "text/html": [
       "<div>\n",
       "<style scoped>\n",
       "    .dataframe tbody tr th:only-of-type {\n",
       "        vertical-align: middle;\n",
       "    }\n",
       "\n",
       "    .dataframe tbody tr th {\n",
       "        vertical-align: top;\n",
       "    }\n",
       "\n",
       "    .dataframe thead th {\n",
       "        text-align: right;\n",
       "    }\n",
       "</style>\n",
       "<table border=\"1\" class=\"dataframe\">\n",
       "  <thead>\n",
       "    <tr style=\"text-align: right;\">\n",
       "      <th></th>\n",
       "      <th>user_id</th>\n",
       "      <th>gender</th>\n",
       "      <th>age</th>\n",
       "      <th>signup_method</th>\n",
       "      <th>signup_flow</th>\n",
       "      <th>language</th>\n",
       "      <th>affiliate_channel</th>\n",
       "      <th>affiliate_provider</th>\n",
       "      <th>signup_app</th>\n",
       "      <th>first_device_type</th>\n",
       "      <th>first_browser</th>\n",
       "      <th>account_created_day</th>\n",
       "      <th>account_created_month</th>\n",
       "      <th>first_booking_day</th>\n",
       "      <th>first_booking_month</th>\n",
       "      <th>action</th>\n",
       "      <th>action_type</th>\n",
       "      <th>action_detail</th>\n",
       "      <th>secs_elapsed</th>\n",
       "    </tr>\n",
       "  </thead>\n",
       "  <tbody>\n",
       "    <tr>\n",
       "      <th>0</th>\n",
       "      <td>5uwns89zht</td>\n",
       "      <td>FEMALE</td>\n",
       "      <td>35.0</td>\n",
       "      <td>facebook</td>\n",
       "      <td>0</td>\n",
       "      <td>en</td>\n",
       "      <td>direct</td>\n",
       "      <td>direct</td>\n",
       "      <td>Moweb</td>\n",
       "      <td>iPhone</td>\n",
       "      <td>Mobile_Safari</td>\n",
       "      <td>1</td>\n",
       "      <td>7</td>\n",
       "      <td>0.0</td>\n",
       "      <td>0.0</td>\n",
       "      <td>edit_verification  references  active  update...</td>\n",
       "      <td>view  view  -unknown-  submit  submit  submit...</td>\n",
       "      <td>profile_verifications  profile_references  -u...</td>\n",
       "      <td>32681.421053</td>\n",
       "    </tr>\n",
       "    <tr>\n",
       "      <th>1</th>\n",
       "      <td>jtl0dijy2j</td>\n",
       "      <td>unknown</td>\n",
       "      <td>32.0</td>\n",
       "      <td>basic</td>\n",
       "      <td>0</td>\n",
       "      <td>en</td>\n",
       "      <td>direct</td>\n",
       "      <td>direct</td>\n",
       "      <td>Moweb</td>\n",
       "      <td>iPhone</td>\n",
       "      <td>Mobile_Safari</td>\n",
       "      <td>1</td>\n",
       "      <td>7</td>\n",
       "      <td>0.0</td>\n",
       "      <td>0.0</td>\n",
       "      <td>personalize  show  message_to_host_focus  mes...</td>\n",
       "      <td>data  view  click  click  -unknown-  view  vi...</td>\n",
       "      <td>wishlist_content_update  p3  message_to_host_...</td>\n",
       "      <td>9554.074074</td>\n",
       "    </tr>\n",
       "    <tr>\n",
       "      <th>2</th>\n",
       "      <td>xx0ulgorjt</td>\n",
       "      <td>unknown</td>\n",
       "      <td>32.0</td>\n",
       "      <td>basic</td>\n",
       "      <td>0</td>\n",
       "      <td>en</td>\n",
       "      <td>direct</td>\n",
       "      <td>direct</td>\n",
       "      <td>Web</td>\n",
       "      <td>Windows_Desktop</td>\n",
       "      <td>Chrome</td>\n",
       "      <td>1</td>\n",
       "      <td>7</td>\n",
       "      <td>0.0</td>\n",
       "      <td>0.0</td>\n",
       "      <td>show  social_connections  show  index  show  ...</td>\n",
       "      <td>view  data  -unknown-  view  -unknown-  -unkn...</td>\n",
       "      <td>user_profile  user_social_connections  -unkno...</td>\n",
       "      <td>12815.333333</td>\n",
       "    </tr>\n",
       "    <tr>\n",
       "      <th>3</th>\n",
       "      <td>6c6puo6ix0</td>\n",
       "      <td>unknown</td>\n",
       "      <td>32.0</td>\n",
       "      <td>basic</td>\n",
       "      <td>0</td>\n",
       "      <td>en</td>\n",
       "      <td>direct</td>\n",
       "      <td>direct</td>\n",
       "      <td>Web</td>\n",
       "      <td>Windows_Desktop</td>\n",
       "      <td>IE</td>\n",
       "      <td>1</td>\n",
       "      <td>7</td>\n",
       "      <td>0.0</td>\n",
       "      <td>0.0</td>\n",
       "      <td>requested  requested  requested  new  request...</td>\n",
       "      <td>view  view  view  view  submit  view  view  s...</td>\n",
       "      <td>p5  p5  p5  list_your_space  post_checkout_ac...</td>\n",
       "      <td>25665.875000</td>\n",
       "    </tr>\n",
       "    <tr>\n",
       "      <th>4</th>\n",
       "      <td>czqhjk3yfe</td>\n",
       "      <td>unknown</td>\n",
       "      <td>32.0</td>\n",
       "      <td>basic</td>\n",
       "      <td>0</td>\n",
       "      <td>en</td>\n",
       "      <td>direct</td>\n",
       "      <td>direct</td>\n",
       "      <td>Web</td>\n",
       "      <td>Mac_Desktop</td>\n",
       "      <td>Safari</td>\n",
       "      <td>1</td>\n",
       "      <td>7</td>\n",
       "      <td>0.0</td>\n",
       "      <td>0.0</td>\n",
       "      <td>ajax_check_dates  show  similar_listings_v2  ...</td>\n",
       "      <td>click  view  view  click  data  view  -unknow...</td>\n",
       "      <td>change_contact_host_dates  p3  view_search_re...</td>\n",
       "      <td>18401.403900</td>\n",
       "    </tr>\n",
       "  </tbody>\n",
       "</table>\n",
       "</div>"
      ],
      "text/plain": [
       "      user_id  ...  secs_elapsed\n",
       "0  5uwns89zht  ...  32681.421053\n",
       "1  jtl0dijy2j  ...   9554.074074\n",
       "2  xx0ulgorjt  ...  12815.333333\n",
       "3  6c6puo6ix0  ...  25665.875000\n",
       "4  czqhjk3yfe  ...  18401.403900\n",
       "\n",
       "[5 rows x 19 columns]"
      ]
     },
     "execution_count": 9,
     "metadata": {
      "tags": []
     },
     "output_type": "execute_result"
    }
   ],
   "source": [
    "test=pd.read_csv(\"/content/drive/MyDrive/My /csv_files/final_test.csv\")\n",
    "print(test.shape)\n",
    "test.head(5)"
   ]
  },
  {
   "cell_type": "markdown",
   "metadata": {
    "id": "KHIv9qgQOWxz"
   },
   "source": [
    "# Encoding categorical variables"
   ]
  },
  {
   "cell_type": "code",
   "execution_count": 10,
   "metadata": {
    "colab": {
     "base_uri": "https://localhost:8080/"
    },
    "id": "NU41mY2pOWxz",
    "outputId": "5710a7eb-b7af-4efd-85de-55c9af81b9bc"
   },
   "outputs": [
    {
     "data": {
      "text/plain": [
       "(61668, 4)"
      ]
     },
     "execution_count": 10,
     "metadata": {
      "tags": []
     },
     "output_type": "execute_result"
    }
   ],
   "source": [
    "vectorizer = CountVectorizer()\n",
    "vectorizer.fit(X['gender'].values)\n",
    "X_gender= vectorizer.transform(X['gender'].values)\n",
    "test_gender= vectorizer.transform(test['gender'].values)\n",
    "test_gender.shape"
   ]
  },
  {
   "cell_type": "code",
   "execution_count": 11,
   "metadata": {
    "colab": {
     "base_uri": "https://localhost:8080/"
    },
    "id": "vvUY-FzFOWx0",
    "outputId": "915eb34d-d12d-4553-9896-8ab84dc8fdf6"
   },
   "outputs": [
    {
     "data": {
      "text/plain": [
       "(61668, 3)"
      ]
     },
     "execution_count": 11,
     "metadata": {
      "tags": []
     },
     "output_type": "execute_result"
    }
   ],
   "source": [
    "vectorizer = CountVectorizer()\n",
    "vectorizer.fit(X['signup_method'].values)\n",
    "X_signup_method = vectorizer.transform(X['signup_method'].values)\n",
    "test_signup_method = vectorizer.transform(test['signup_method'].values)\n",
    "test_signup_method.shape"
   ]
  },
  {
   "cell_type": "code",
   "execution_count": 12,
   "metadata": {
    "colab": {
     "base_uri": "https://localhost:8080/"
    },
    "id": "rjSSR4i8OWx0",
    "outputId": "29f8d46e-48bf-48ea-c86e-ab51e462875b"
   },
   "outputs": [
    {
     "data": {
      "text/plain": [
       "(61668, 24)"
      ]
     },
     "execution_count": 12,
     "metadata": {
      "tags": []
     },
     "output_type": "execute_result"
    }
   ],
   "source": [
    "vectorizer = CountVectorizer()\n",
    "vectorizer.fit(X['language'].values)\n",
    "X_language = vectorizer.transform(X['language'].values)\n",
    "test_language = vectorizer.transform(test['language'].values)\n",
    "test_language.shape"
   ]
  },
  {
   "cell_type": "code",
   "execution_count": 13,
   "metadata": {
    "colab": {
     "base_uri": "https://localhost:8080/"
    },
    "id": "go8p3uVcOWx2",
    "outputId": "7baafb22-4535-41de-8148-cc4691025644"
   },
   "outputs": [
    {
     "data": {
      "text/plain": [
       "(61668, 8)"
      ]
     },
     "execution_count": 13,
     "metadata": {
      "tags": []
     },
     "output_type": "execute_result"
    }
   ],
   "source": [
    "vectorizer = CountVectorizer()\n",
    "vectorizer.fit(X['affiliate_channel'].values)\n",
    "X_affiliate_channel = vectorizer.transform(X['affiliate_channel'].values)\n",
    "test_affiliate_channel = vectorizer.transform(test['affiliate_channel'].values)\n",
    "test_affiliate_channel.shape"
   ]
  },
  {
   "cell_type": "code",
   "execution_count": 14,
   "metadata": {
    "colab": {
     "base_uri": "https://localhost:8080/"
    },
    "id": "HkZP6u9_OWx3",
    "outputId": "c0e1fda4-9b50-4107-e8bf-adaf18eebee6"
   },
   "outputs": [
    {
     "data": {
      "text/plain": [
       "(61668, 17)"
      ]
     },
     "execution_count": 14,
     "metadata": {
      "tags": []
     },
     "output_type": "execute_result"
    }
   ],
   "source": [
    "vectorizer = CountVectorizer()\n",
    "vectorizer.fit(X['affiliate_provider'].values)\n",
    "X_affiliate_provider = vectorizer.transform(X['affiliate_provider'].values)\n",
    "test_affiliate_provider = vectorizer.transform(test['affiliate_provider'].values)\n",
    "test_affiliate_provider.shape"
   ]
  },
  {
   "cell_type": "code",
   "execution_count": 15,
   "metadata": {
    "colab": {
     "base_uri": "https://localhost:8080/"
    },
    "id": "CVaY9jynOWx3",
    "outputId": "135281f3-da89-44a6-d588-aa917b161874"
   },
   "outputs": [
    {
     "data": {
      "text/plain": [
       "(61668, 4)"
      ]
     },
     "execution_count": 15,
     "metadata": {
      "tags": []
     },
     "output_type": "execute_result"
    }
   ],
   "source": [
    "vectorizer = CountVectorizer()\n",
    "vectorizer.fit(X['signup_app'].values)\n",
    "X_signup_app = vectorizer.transform(X['signup_app'].values)\n",
    "test_signup_app = vectorizer.transform(test['signup_app'].values)\n",
    "test_signup_app.shape"
   ]
  },
  {
   "cell_type": "code",
   "execution_count": 16,
   "metadata": {
    "colab": {
     "base_uri": "https://localhost:8080/"
    },
    "id": "JvrK6Ep7OWx4",
    "outputId": "aa29ecf4-7f53-49b9-8306-5b0f5f97819d"
   },
   "outputs": [
    {
     "data": {
      "text/plain": [
       "(61668, 9)"
      ]
     },
     "execution_count": 16,
     "metadata": {
      "tags": []
     },
     "output_type": "execute_result"
    }
   ],
   "source": [
    "vectorizer = CountVectorizer()\n",
    "vectorizer.fit(X['first_device_type'].values)\n",
    "X_first_device_type = vectorizer.transform(X['first_device_type'].values)\n",
    "test_first_device_type = vectorizer.transform(test['first_device_type'].values)\n",
    "test_first_device_type.shape"
   ]
  },
  {
   "cell_type": "code",
   "execution_count": 17,
   "metadata": {
    "colab": {
     "base_uri": "https://localhost:8080/"
    },
    "id": "Vz-QJYoWOWx5",
    "outputId": "b6823a18-92f6-4624-a524-49d9e090e513"
   },
   "outputs": [
    {
     "data": {
      "text/plain": [
       "(61668, 35)"
      ]
     },
     "execution_count": 17,
     "metadata": {
      "tags": []
     },
     "output_type": "execute_result"
    }
   ],
   "source": [
    "vectorizer = CountVectorizer()\n",
    "vectorizer.fit(X['first_browser'].values)\n",
    "X_first_browser = vectorizer.transform(X['first_browser'].values)\n",
    "test_first_browser = vectorizer.transform(test['first_browser'].values)\n",
    "test_first_browser.shape"
   ]
  },
  {
   "cell_type": "markdown",
   "metadata": {
    "id": "WDax-h-GOWx5"
   },
   "source": [
    "# encoding session data"
   ]
  },
  {
   "cell_type": "code",
   "execution_count": 18,
   "metadata": {
    "id": "ynul4J30OWx5"
   },
   "outputs": [],
   "source": [
    "#tfidf vectorizer\n",
    "from sklearn.feature_extraction.text import TfidfVectorizer\n",
    "\n",
    "vectorizer = TfidfVectorizer(min_df=10,ngram_range=(1,4),max_features=1000)\n",
    "vectorizer.fit(X['action'].values) \n",
    "X_action = vectorizer.transform(X['action'])\n",
    "test_action = vectorizer.transform(test['action'])"
   ]
  },
  {
   "cell_type": "code",
   "execution_count": 19,
   "metadata": {
    "colab": {
     "base_uri": "https://localhost:8080/"
    },
    "id": "NLZqxNK4OWx6",
    "outputId": "5fb8635f-f78c-4155-a6af-56d5b49c237d"
   },
   "outputs": [
    {
     "data": {
      "text/plain": [
       "(61668, 1000)"
      ]
     },
     "execution_count": 19,
     "metadata": {
      "tags": []
     },
     "output_type": "execute_result"
    }
   ],
   "source": [
    "#tfidf vectorizer\n",
    "from sklearn.feature_extraction.text import TfidfVectorizer\n",
    "\n",
    "vectorizer = TfidfVectorizer(min_df=10,ngram_range=(1,4),max_features=1000)\n",
    "vectorizer.fit(X['action_type'].values) \n",
    "X_action_type = vectorizer.transform(X['action_type'])\n",
    "test_action_type = vectorizer.transform(test['action_type'])\n",
    "test_action_type.shape\n"
   ]
  },
  {
   "cell_type": "code",
   "execution_count": 20,
   "metadata": {
    "colab": {
     "base_uri": "https://localhost:8080/"
    },
    "id": "ydoTHK9OOWx6",
    "outputId": "4d2b8140-c994-4522-f3b2-5e9f8161d438"
   },
   "outputs": [
    {
     "data": {
      "text/plain": [
       "(61668, 1000)"
      ]
     },
     "execution_count": 20,
     "metadata": {
      "tags": []
     },
     "output_type": "execute_result"
    }
   ],
   "source": [
    "#tfidf vectorizer\n",
    "from sklearn.feature_extraction.text import TfidfVectorizer\n",
    "\n",
    "vectorizer = TfidfVectorizer(min_df=10,ngram_range=(1,4),max_features=1000)\n",
    "vectorizer.fit(X['action_detail'].values) \n",
    "X_action_detail = vectorizer.transform(X['action_detail'])\n",
    "test_action_detail = vectorizer.transform(test['action_detail'])\n",
    "test_action_type.shape\n"
   ]
  },
  {
   "cell_type": "markdown",
   "metadata": {
    "id": "E-cWmFJZOWx6"
   },
   "source": [
    "# Standardizing numerical features"
   ]
  },
  {
   "cell_type": "code",
   "execution_count": 21,
   "metadata": {
    "id": "RTEY6RkhOWx7"
   },
   "outputs": [],
   "source": [
    "from sklearn import preprocessing\n",
    "scaler = preprocessing.StandardScaler().fit(X['secs_elapsed'].values.reshape(-1,1))\n",
    "X_secs = scaler.transform(X['secs_elapsed'].values.reshape(-1,1))\n",
    "test_secs = scaler.transform(test['secs_elapsed'].values.reshape(-1,1))"
   ]
  },
  {
   "cell_type": "code",
   "execution_count": 22,
   "metadata": {
    "id": "HbXXFBmOOWx7"
   },
   "outputs": [],
   "source": [
    "X_age=X['age'].values.reshape(-1,1)\n",
    "X_flow=X['signup_flow'].values.reshape(-1,1)\n",
    "X_create_day=X['account_created_day'].values.reshape(-1,1)\n",
    "X_create_month=X['account_created_month'].values.reshape(-1,1)\n",
    "X_book_day=X['first_booking_day'].values.reshape(-1,1)\n",
    "X_book_month=X['first_booking_month'].values.reshape(-1,1)\n"
   ]
  },
  {
   "cell_type": "code",
   "execution_count": 23,
   "metadata": {
    "id": "N_7sgeh3OWx7"
   },
   "outputs": [],
   "source": [
    "test_age=test['age'].values.reshape(-1,1)\n",
    "test_flow=test['signup_flow'].values.reshape(-1,1)\n",
    "test_create_day=test['account_created_day'].values.reshape(-1,1)\n",
    "test_create_month=test['account_created_month'].values.reshape(-1,1)\n",
    "test_book_day=test['first_booking_day'].values.reshape(-1,1)\n",
    "test_book_month=test['first_booking_month'].values.reshape(-1,1)"
   ]
  },
  {
   "cell_type": "code",
   "execution_count": 28,
   "metadata": {
    "colab": {
     "base_uri": "https://localhost:8080/"
    },
    "id": "99jl56J6OWx7",
    "outputId": "9be70ed4-83bf-4ecb-f63d-26f486e7cfe2"
   },
   "outputs": [
    {
     "name": "stdout",
     "output_type": "stream",
     "text": [
      "[[11]\n",
      " [ 7]\n",
      " [ 7]\n",
      " ...\n",
      " [ 7]\n",
      " [ 7]\n",
      " [ 7]]\n"
     ]
    }
   ],
   "source": [
    "from sklearn import preprocessing \n",
    "label_encoder = preprocessing.LabelEncoder() \n",
    "y_tr= label_encoder.fit_transform(y)\n",
    "y_tr=y_tr.reshape(-1,1)\n",
    "print(y_tr)"
   ]
  },
  {
   "cell_type": "markdown",
   "metadata": {
    "id": "lqThzvdVuzmR"
   },
   "source": [
    "# Combinaing the whole data using hstack"
   ]
  },
  {
   "cell_type": "code",
   "execution_count": 29,
   "metadata": {
    "colab": {
     "base_uri": "https://localhost:8080/"
    },
    "id": "aWQMdK5EOWx8",
    "outputId": "c813a9e7-d273-415e-a66e-d74991aa95be"
   },
   "outputs": [
    {
     "name": "stdout",
     "output_type": "stream",
     "text": [
      "Final Data matrix\n",
      "(73815, 3111) (73815, 1)\n"
     ]
    }
   ],
   "source": [
    "# merge two sparse matrices: https://stackoverflow.com/a/19710648/4084039\n",
    "\n",
    "from scipy.sparse import hstack\n",
    "X_tr = hstack((X_gender, X_age, X_signup_method, X_flow, X_language,X_affiliate_channel,X_affiliate_provider,\n",
    "              X_signup_app,X_first_device_type,X_first_browser,X_create_day,X_create_month,X_book_day,\n",
    "              X_book_month,X_action,X_action_type,X_action_detail,X_secs)).tocsr()\n",
    "\n",
    "print(\"Final Data matrix\")\n",
    "print(X_tr.shape, y_tr.shape)\n"
   ]
  },
  {
   "cell_type": "code",
   "execution_count": 30,
   "metadata": {
    "colab": {
     "base_uri": "https://localhost:8080/"
    },
    "id": "bFL9bMaDOWx8",
    "outputId": "99aff6e6-6540-4963-a01a-bc038cdd5409"
   },
   "outputs": [
    {
     "name": "stdout",
     "output_type": "stream",
     "text": [
      "Final Data matrix\n",
      "(61668, 3111)\n"
     ]
    }
   ],
   "source": [
    "# merge two sparse matrices: https://stackoverflow.com/a/19710648/4084039\n",
    "\n",
    "from scipy.sparse import hstack\n",
    "final_test = hstack((test_gender, test_age, test_signup_method, test_flow, test_language,test_affiliate_channel,test_affiliate_provider,\n",
    "              test_signup_app,test_first_device_type,test_first_browser,test_create_day,test_create_month,test_book_day,\n",
    "              test_book_month,test_action,test_action_type,test_action_detail,test_secs)).tocsr()\n",
    "\n",
    "print(\"Final Data matrix\")\n",
    "print(final_test.shape)\n"
   ]
  },
  {
   "cell_type": "code",
   "execution_count": 27,
   "metadata": {
    "id": "yiSLzKmnOWx8"
   },
   "outputs": [],
   "source": [
    "#https://www.kaggle.com/davidgasquez/ndcg-scorer\n",
    "\n",
    "from sklearn.preprocessing import LabelBinarizer\n",
    "from sklearn.metrics import make_scorer\n",
    "\n",
    "def dcg_score(y_true, y_score, k=5):\n",
    "    order = np.argsort(y_score)[::-1]\n",
    "    y_true = np.take(y_true, order[:k])\n",
    "\n",
    "    gain = 2 ** y_true - 1\n",
    "\n",
    "    discounts = np.log2(np.arange(len(y_true)) + 2)\n",
    "    return np.sum(gain / discounts)\n",
    "\n",
    "\n",
    "#def ndcg_score(ground_truth, predictions, k=5):\n",
    "def ndcg_score(te_labels, predict, k):\n",
    "    \n",
    "    lb = LabelBinarizer()\n",
    "    lb.fit(range(len(predict) + 1))\n",
    "    T = lb.transform(te_labels)\n",
    "\n",
    "    scores = []\n",
    "\n",
    "    # Iterate over each y_true and compute the DCG score\n",
    "    for y_true, y_score in zip(T, predict):\n",
    "        actual = dcg_score(y_true, y_score, k)\n",
    "        best = dcg_score(y_true, y_true, k)\n",
    "        if best == 0:\n",
    "            best = 0.000000001\n",
    "        score = float(actual) / float(best)\n",
    "        scores.append(score)\n",
    "    return np.mean(scores)\n",
    "\n",
    "\n",
    "# NDCG Scorer function\n",
    "ndcg_scorer = make_scorer(ndcg_score, needs_proba=True, k=5)"
   ]
  },
  {
   "cell_type": "code",
   "execution_count": null,
   "metadata": {
    "id": "KNhqIEuuTV85"
   },
   "outputs": [],
   "source": [
    "#spliting the training data into train and test\n",
    "X_train, X_test, y_train, y_test = train_test_split(X_tr, y_tr, test_size=0.15, random_state=42)"
   ]
  },
  {
   "cell_type": "code",
   "execution_count": null,
   "metadata": {
    "colab": {
     "base_uri": "https://localhost:8080/"
    },
    "id": "WZkElWgOEUgm",
    "outputId": "eb48a5ca-40e2-49a7-dc89-64703cf43090"
   },
   "outputs": [
    {
     "data": {
      "text/plain": [
       "(62742, 3111)"
      ]
     },
     "execution_count": 28,
     "metadata": {
      "tags": []
     },
     "output_type": "execute_result"
    }
   ],
   "source": [
    "X_train.shape"
   ]
  },
  {
   "cell_type": "markdown",
   "metadata": {
    "id": "PGPSfoVHOWx9"
   },
   "source": [
    "# Navie bayes"
   ]
  },
  {
   "cell_type": "code",
   "execution_count": null,
   "metadata": {
    "colab": {
     "base_uri": "https://localhost:8080/"
    },
    "id": "Pa7dmTm1OWx9",
    "outputId": "b84cb294-6a3b-4e0e-fec8-11320007c770"
   },
   "outputs": [
    {
     "name": "stdout",
     "output_type": "stream",
     "text": [
      "NDCG score : 0.32258766416380186\n"
     ]
    }
   ],
   "source": [
    "#Building model\n",
    "from sklearn.naive_bayes import GaussianNB\n",
    "\n",
    "nb = GaussianNB()\n",
    "nb.fit(X_train.toarray(),y_train)\n",
    "prob_nb = nb.predict_proba(X_test.toarray())\n",
    "score_nb = ndcg_score(y_test, prob_nb, k=5)\n",
    "print(\"NDCG score : {}\".format(score_nb))"
   ]
  },
  {
   "cell_type": "markdown",
   "metadata": {
    "id": "D1Xs9cIttUUK"
   },
   "source": [
    "Our navie bayes is not performing good on this data as we can see NDCG score is 0.32258766416380186 which is too low."
   ]
  },
  {
   "cell_type": "markdown",
   "metadata": {
    "id": "PmBb5aqNBa0M"
   },
   "source": [
    "# K Nearest Neighbour"
   ]
  },
  {
   "cell_type": "code",
   "execution_count": null,
   "metadata": {
    "colab": {
     "base_uri": "https://localhost:8080/"
    },
    "id": "1VAFJOy7OWx-",
    "outputId": "22b150b5-ea1f-417f-e964-db9dcb96a034"
   },
   "outputs": [
    {
     "name": "stdout",
     "output_type": "stream",
     "text": [
      "For alpha : 5\n",
      "NDCG score : 0.9129399529144849\n",
      "For alpha : 11\n",
      "NDCG score : 0.9223529953141688\n",
      "For alpha : 15\n",
      "NDCG score : 0.9247219586605686\n",
      "For alpha : 20\n",
      "NDCG score : 0.9259977324568556\n"
     ]
    }
   ],
   "source": [
    "#Building model\n",
    "from sklearn.neighbors import KNeighborsClassifier\n",
    "alpha = [5, 11, 15, 20]\n",
    "for i in alpha:\n",
    "    knn = KNeighborsClassifier(n_neighbors=i)\n",
    "    knn.fit(X_train,y_train)\n",
    "    prob_knn = knn.predict_proba(X_test)\n",
    "    score_knn = ndcg_score(y_test, prob_knn, k=5)\n",
    "    print(\"For alpha : {}\".format(i))\n",
    "    print(\"NDCG score : {}\".format(score_knn))"
   ]
  },
  {
   "cell_type": "markdown",
   "metadata": {
    "id": "GYfWFt6BtttH"
   },
   "source": [
    "Our KNN model is doing good job as it is getting maximun NDCG score of 0.9259977324568556 for alpha value of 20 "
   ]
  },
  {
   "cell_type": "markdown",
   "metadata": {
    "id": "yVqN5BqbJbXF"
   },
   "source": [
    "# Logistic Regression"
   ]
  },
  {
   "cell_type": "code",
   "execution_count": null,
   "metadata": {
    "colab": {
     "base_uri": "https://localhost:8080/"
    },
    "id": "qoRqmxK3OWx-",
    "outputId": "31dd5dd4-0fd9-471b-9b52-f739792b5ced"
   },
   "outputs": [
    {
     "name": "stderr",
     "output_type": "stream",
     "text": [
      "\n",
      "\n",
      "  0%|          | 0/3 [00:00<?, ?it/s]\u001b[A\u001b[A\n",
      "\n",
      " 33%|███▎      | 1/3 [02:16<04:32, 136.50s/it]\u001b[A\u001b[A"
     ]
    },
    {
     "name": "stdout",
     "output_type": "stream",
     "text": [
      "For alpha : 0.01\n",
      "NDCG score : 0.9289981193239987\n"
     ]
    },
    {
     "name": "stderr",
     "output_type": "stream",
     "text": [
      "\n",
      "\n",
      " 67%|██████▋   | 2/3 [04:22<02:13, 133.44s/it]\u001b[A\u001b[A"
     ]
    },
    {
     "name": "stdout",
     "output_type": "stream",
     "text": [
      "For alpha : 0.1\n",
      "NDCG score : 0.9289981193239987\n"
     ]
    },
    {
     "name": "stderr",
     "output_type": "stream",
     "text": [
      "\n",
      "\n",
      "100%|██████████| 3/3 [06:26<00:00, 128.89s/it]"
     ]
    },
    {
     "name": "stdout",
     "output_type": "stream",
     "text": [
      "For alpha : 1\n",
      "NDCG score : 0.9289981193239987\n"
     ]
    },
    {
     "name": "stderr",
     "output_type": "stream",
     "text": [
      "\n"
     ]
    }
   ],
   "source": [
    "#Building model\n",
    "from sklearn.linear_model import LogisticRegression\n",
    "from sklearn.linear_model import SGDClassifier\n",
    "from tqdm import tqdm\n",
    "\n",
    "alpha = [10 ** x for x in range(-2, 1)]\n",
    "for i in tqdm(alpha):\n",
    "    sgd = SGDClassifier(class_weight='balanced', alpha=i, penalty='l2', loss='log', random_state=42)\n",
    "    sgd.fit(X_train,y_train)\n",
    "    prob_sgd = knn.predict_proba(X_test)\n",
    "    score_sgd = ndcg_score(y_test, prob_knn, k=5)\n",
    "    print(\"For alpha : {}\".format(i))\n",
    "    print(\"NDCG score : {}\".format(score_sgd))"
   ]
  },
  {
   "cell_type": "markdown",
   "metadata": {
    "id": "DsJByf0iL5-F"
   },
   "source": [
    "#Linear Support Vector Machines"
   ]
  },
  {
   "cell_type": "code",
   "execution_count": null,
   "metadata": {
    "colab": {
     "base_uri": "https://localhost:8080/"
    },
    "id": "HFP3i7VbL819",
    "outputId": "84f1baf2-d3d6-4037-ac42-85fefcb7b5bd"
   },
   "outputs": [
    {
     "name": "stdout",
     "output_type": "stream",
     "text": [
      "For alpha : 0.001\n",
      "NDCG score : 0.9289981193239987\n",
      "For alpha : 0.01\n",
      "NDCG score : 0.9289981193239987\n",
      "For alpha : 0.1\n",
      "NDCG score : 0.9289981193239987\n",
      "For alpha : 1\n",
      "NDCG score : 0.9289981193239987\n",
      "For alpha : 10\n",
      "NDCG score : 0.9289981193239987\n"
     ]
    }
   ],
   "source": [
    "#Building model\n",
    "from sklearn.linear_model import SGDClassifier\n",
    "from tqdm import tqdm\n",
    "\n",
    "alpha = [10 ** x for x in range(-3, 2)]\n",
    "for i in alpha:\n",
    "    sgd_svm = SGDClassifier(class_weight='balanced', alpha=i, penalty='l2', loss='hinge', random_state=42)\n",
    "    sgd_svm.fit(X_train,y_train)\n",
    "    prob_sgd_svm = knn.predict_proba(X_test)\n",
    "    score_sgd_svm = ndcg_score(y_test, prob_knn, k=5)\n",
    "    print(\"For alpha : {}\".format(i))\n",
    "    print(\"NDCG score : {}\".format(score_sgd_svm))"
   ]
  },
  {
   "cell_type": "markdown",
   "metadata": {
    "id": "bQKf6kAwwysB"
   },
   "source": [
    "The above model is doing good job as we are getting NDCG score of 0.9289981193239987 "
   ]
  },
  {
   "cell_type": "markdown",
   "metadata": {
    "id": "DK6U9NFFK8K0"
   },
   "source": [
    "# Random Forest Classifier"
   ]
  },
  {
   "cell_type": "code",
   "execution_count": null,
   "metadata": {
    "colab": {
     "base_uri": "https://localhost:8080/"
    },
    "id": "cIfF15kPEGHv",
    "outputId": "82db4d0a-ff7f-46ca-ae85-9c5da8b6e9dd"
   },
   "outputs": [
    {
     "name": "stdout",
     "output_type": "stream",
     "text": [
      "Depth of tree : 1\n",
      "Number of Estimators : 5\n",
      "NDCG Score : 0.8252075504492372\n",
      "*****************\n",
      "Depth of tree : 1\n",
      "Number of Estimators : 10\n",
      "NDCG Score : 0.8252075504492372\n",
      "*****************\n",
      "Depth of tree : 1\n",
      "Number of Estimators : 50\n",
      "NDCG Score : 0.8252035927367078\n",
      "*****************\n",
      "Depth of tree : 1\n",
      "Number of Estimators : 100\n",
      "NDCG Score : 0.8252035927367078\n",
      "*****************\n",
      "Depth of tree : 1\n",
      "Number of Estimators : 500\n",
      "NDCG Score : 0.8252035927367078\n",
      "*****************\n",
      "Depth of tree : 2\n",
      "Number of Estimators : 5\n",
      "NDCG Score : 0.8252408810955326\n",
      "*****************\n",
      "Depth of tree : 2\n",
      "Number of Estimators : 10\n",
      "NDCG Score : 0.8252075504492372\n",
      "*****************\n",
      "Depth of tree : 2\n",
      "Number of Estimators : 50\n",
      "NDCG Score : 0.8252035927367078\n",
      "*****************\n",
      "Depth of tree : 2\n",
      "Number of Estimators : 100\n",
      "NDCG Score : 0.8252035927367078\n",
      "*****************\n",
      "Depth of tree : 2\n",
      "Number of Estimators : 500\n",
      "NDCG Score : 0.8252035927367078\n",
      "*****************\n",
      "Depth of tree : 3\n",
      "Number of Estimators : 5\n",
      "NDCG Score : 0.8252774236195135\n",
      "*****************\n",
      "Depth of tree : 3\n",
      "Number of Estimators : 10\n",
      "NDCG Score : 0.8252075504492372\n",
      "*****************\n",
      "Depth of tree : 3\n",
      "Number of Estimators : 50\n",
      "NDCG Score : 0.8252424870343754\n",
      "*****************\n",
      "Depth of tree : 3\n",
      "Number of Estimators : 100\n",
      "NDCG Score : 0.8252385293218459\n",
      "*****************\n",
      "Depth of tree : 3\n",
      "Number of Estimators : 500\n",
      "NDCG Score : 0.8252035927367078\n",
      "*****************\n",
      "Depth of tree : 4\n",
      "Number of Estimators : 5\n",
      "NDCG Score : 0.8253646823168124\n",
      "*****************\n",
      "Depth of tree : 4\n",
      "Number of Estimators : 10\n",
      "NDCG Score : 0.8254369072607753\n",
      "*****************\n",
      "Depth of tree : 4\n",
      "Number of Estimators : 50\n",
      "NDCG Score : 0.8251686561515696\n",
      "*****************\n",
      "Depth of tree : 4\n",
      "Number of Estimators : 100\n",
      "NDCG Score : 0.8252035927367078\n",
      "*****************\n",
      "Depth of tree : 4\n",
      "Number of Estimators : 500\n",
      "NDCG Score : 0.8252035927367078\n",
      "*****************\n",
      "Depth of tree : 6\n",
      "Number of Estimators : 5\n",
      "NDCG Score : 0.8253395910798712\n",
      "*****************\n",
      "Depth of tree : 6\n",
      "Number of Estimators : 10\n",
      "NDCG Score : 0.8253385212607319\n",
      "*****************\n",
      "Depth of tree : 6\n",
      "Number of Estimators : 50\n",
      "NDCG Score : 0.8252345716093165\n",
      "*****************\n",
      "Depth of tree : 6\n",
      "Number of Estimators : 100\n",
      "NDCG Score : 0.8253345635482024\n",
      "*****************\n",
      "Depth of tree : 6\n",
      "Number of Estimators : 500\n",
      "NDCG Score : 0.8252035927367078\n",
      "*****************\n"
     ]
    }
   ],
   "source": [
    "#Building model\n",
    "from sklearn.ensemble import RandomForestClassifier\n",
    "\n",
    "\n",
    "n_estimator= [5,10,50,100,500] \n",
    "max_depth= [1,2,3,4,6]\n",
    "\n",
    "for i in max_depth:\n",
    "    for j in (n_estimator):\n",
    "        \n",
    "        clf_rf = RandomForestClassifier(n_estimators=j, criterion='gini', max_depth=i, random_state=42, n_jobs=-1)\n",
    "        clf_rf.fit(X_train,y_train)\n",
    "        prob_rf = clf_rf.predict_proba(X_test)\n",
    "        score_rf = ndcg_score(y_test, prob_rf, k=5)\n",
    "        print (\"Depth of tree : {}\".format(i))\n",
    "        print (\"Number of Estimators : {}\".format(j))\n",
    "        print (\"NDCG Score : {}\".format(score_rf))\n",
    "        print(\"*****************\")"
   ]
  },
  {
   "cell_type": "markdown",
   "metadata": {
    "id": "YCKceuVTxLKh"
   },
   "source": [
    "This above random forest model is providing maximun NDCG score of 0.8254369072607753 where hyperparameter depth of tree is 4 and n_estimators is 10.This score is not good as compare to other models above."
   ]
  },
  {
   "cell_type": "markdown",
   "metadata": {
    "id": "NykWNPO2Tcmh"
   },
   "source": [
    "#Decision Trees"
   ]
  },
  {
   "cell_type": "code",
   "execution_count": null,
   "metadata": {
    "colab": {
     "base_uri": "https://localhost:8080/"
    },
    "id": "CfnjEu_oEGWY",
    "outputId": "feb30652-7452-4605-9f5c-eb9db05a2311"
   },
   "outputs": [
    {
     "name": "stdout",
     "output_type": "stream",
     "text": [
      "Depth of tree : 1\n",
      "min_sample_split : 5\n",
      "NDCG Score : 0.935815622450786\n",
      "*****************\n",
      "Depth of tree : 1\n",
      "min_sample_split : 10\n",
      "NDCG Score : 0.935815622450786\n",
      "*****************\n",
      "Depth of tree : 1\n",
      "min_sample_split : 50\n",
      "NDCG Score : 0.935815622450786\n",
      "*****************\n",
      "Depth of tree : 1\n",
      "min_sample_split : 100\n",
      "NDCG Score : 0.935815622450786\n",
      "*****************\n",
      "Depth of tree : 2\n",
      "min_sample_split : 5\n",
      "NDCG Score : 0.9357806858656479\n",
      "*****************\n",
      "Depth of tree : 2\n",
      "min_sample_split : 10\n",
      "NDCG Score : 0.9357806858656479\n",
      "*****************\n",
      "Depth of tree : 2\n",
      "min_sample_split : 50\n",
      "NDCG Score : 0.9357806858656479\n",
      "*****************\n",
      "Depth of tree : 2\n",
      "min_sample_split : 100\n",
      "NDCG Score : 0.9357806858656479\n",
      "*****************\n",
      "Depth of tree : 4\n",
      "min_sample_split : 5\n",
      "NDCG Score : 0.9359998267403783\n",
      "*****************\n",
      "Depth of tree : 4\n",
      "min_sample_split : 10\n",
      "NDCG Score : 0.9359998267403783\n",
      "*****************\n",
      "Depth of tree : 4\n",
      "min_sample_split : 50\n",
      "NDCG Score : 0.9359998267403783\n",
      "*****************\n",
      "Depth of tree : 4\n",
      "min_sample_split : 100\n",
      "NDCG Score : 0.9359998267403783\n",
      "*****************\n",
      "Depth of tree : 5\n",
      "min_sample_split : 5\n",
      "NDCG Score : 0.935809573941648\n",
      "*****************\n",
      "Depth of tree : 5\n",
      "min_sample_split : 10\n",
      "NDCG Score : 0.9358213981765954\n",
      "*****************\n",
      "Depth of tree : 5\n",
      "min_sample_split : 50\n",
      "NDCG Score : 0.9358213981765954\n",
      "*****************\n",
      "Depth of tree : 5\n",
      "min_sample_split : 100\n",
      "NDCG Score : 0.9358213981765954\n",
      "*****************\n",
      "Depth of tree : 6\n",
      "min_sample_split : 5\n",
      "NDCG Score : 0.9357045031481838\n",
      "*****************\n",
      "Depth of tree : 6\n",
      "min_sample_split : 10\n",
      "NDCG Score : 0.9357045031481838\n",
      "*****************\n",
      "Depth of tree : 6\n",
      "min_sample_split : 50\n",
      "NDCG Score : 0.9357501941491303\n",
      "*****************\n",
      "Depth of tree : 6\n",
      "min_sample_split : 100\n",
      "NDCG Score : 0.9357501941491303\n",
      "*****************\n"
     ]
    }
   ],
   "source": [
    "#Building model\n",
    "from sklearn.tree import DecisionTreeClassifier\n",
    "max_depth=[1,2,4,5,6]\n",
    "min_samples_split=[5,10,50,100]\n",
    "\n",
    "for i in max_depth:\n",
    "    for j in min_samples_split:\n",
    "        \n",
    "        d_tree = DecisionTreeClassifier(criterion='gini', max_depth=i , min_samples_split= j )\n",
    "        d_tree.fit(X_train,y_train)\n",
    "        prob_dt = d_tree.predict_proba(X_test)\n",
    "        score_dt = ndcg_score(y_test, prob_dt, k=5)\n",
    "        print (\"Depth of tree : {}\".format(i))\n",
    "        print (\"min_sample_split : {}\".format(j))\n",
    "        print (\"NDCG Score : {}\".format(score_dt))\n",
    "        print(\"*****************\")\n"
   ]
  },
  {
   "cell_type": "markdown",
   "metadata": {
    "id": "twW-6nrIySMe"
   },
   "source": [
    "The above decision tree model is giving NDCG score of 0.9359998267403783 which is the maximun score till now.The best hyperparameter are 4 and 100 as depth of tree and min_sample_split respectivily."
   ]
  },
  {
   "cell_type": "markdown",
   "metadata": {
    "id": "Qcd2ghNeU-YG"
   },
   "source": [
    "#XGBOOST Classifier"
   ]
  },
  {
   "cell_type": "code",
   "execution_count": null,
   "metadata": {
    "colab": {
     "base_uri": "https://localhost:8080/"
    },
    "id": "9JCpgeRUVU1n",
    "outputId": "c3099bad-6c1f-4bf9-8b69-e7ea9158b2ec"
   },
   "outputs": [
    {
     "name": "stdout",
     "output_type": "stream",
     "text": [
      "Depth of tree : 1\n",
      "Number of Estimators : 5\n",
      "NDCG Score : 0.9359553687913384\n",
      "*****************\n",
      "Depth of tree : 1\n",
      "Number of Estimators : 10\n",
      "NDCG Score : 0.9359553687913384\n",
      "*****************\n",
      "Depth of tree : 1\n",
      "Number of Estimators : 50\n",
      "NDCG Score : 0.9360252419616149\n",
      "*****************\n",
      "Depth of tree : 1\n",
      "Number of Estimators : 100\n",
      "NDCG Score : 0.9361498402796765\n",
      "*****************\n",
      "Depth of tree : 2\n",
      "Number of Estimators : 5\n",
      "NDCG Score : 0.9358551995151091\n",
      "*****************\n",
      "Depth of tree : 2\n",
      "Number of Estimators : 10\n",
      "NDCG Score : 0.9358466360604883\n",
      "*****************\n",
      "Depth of tree : 2\n",
      "Number of Estimators : 50\n",
      "NDCG Score : 0.9360760093968709\n",
      "*****************\n",
      "Depth of tree : 2\n",
      "Number of Estimators : 100\n",
      "NDCG Score : 0.9359943119916471\n",
      "*****************\n",
      "Depth of tree : 3\n",
      "Number of Estimators : 5\n",
      "NDCG Score : 0.935914206359719\n",
      "*****************\n",
      "Depth of tree : 3\n",
      "Number of Estimators : 10\n",
      "NDCG Score : 0.9359431575039078\n",
      "*****************\n",
      "Depth of tree : 3\n",
      "Number of Estimators : 50\n",
      "NDCG Score : 0.935961988157274\n",
      "*****************\n",
      "Depth of tree : 3\n",
      "Number of Estimators : 100\n",
      "NDCG Score : 0.9357385655247474\n",
      "*****************\n",
      "Depth of tree : 4\n",
      "Number of Estimators : 5\n",
      "NDCG Score : 0.9358441211150057\n",
      "*****************\n",
      "Depth of tree : 4\n",
      "Number of Estimators : 10\n",
      "NDCG Score : 0.935720480706225\n",
      "*****************\n",
      "Depth of tree : 4\n",
      "Number of Estimators : 50\n",
      "NDCG Score : 0.935689515938192\n",
      "*****************\n",
      "Depth of tree : 4\n",
      "Number of Estimators : 100\n",
      "NDCG Score : 0.9355378474964384\n",
      "*****************\n"
     ]
    }
   ],
   "source": [
    "#Building the model \n",
    "from xgboost import XGBClassifier\n",
    "from tqdm import tqdm\n",
    "n_estimator= [5,10,50,100] \n",
    "max_depth= [1,2,3,4]\n",
    "\n",
    "for depth in max_depth:\n",
    "    for n in n_estimator:       \n",
    "        xgb = XGBClassifier(max_depth=depth, n_estimators=n)\n",
    "        xgb.fit(X_train,y_train)\n",
    "        prob_xgb = xgb.predict_proba(X_test)\n",
    "        score_xgb = ndcg_score(y_test, prob_xgb, k=5)\n",
    "        print (\"Depth of tree : {}\".format(depth))\n",
    "        print (\"Number of Estimators : {}\".format(n))\n",
    "        print (\"NDCG Score : {}\".format(score_xgb))\n",
    "        print(\"*****************\")"
   ]
  },
  {
   "cell_type": "code",
   "execution_count": null,
   "metadata": {
    "colab": {
     "base_uri": "https://localhost:8080/"
    },
    "id": "ht1un5J4PcTd",
    "outputId": "8204f38c-58bf-4d23-ac83-7269babcc0db"
   },
   "outputs": [
    {
     "name": "stdout",
     "output_type": "stream",
     "text": [
      "Depth of tree : 1\n",
      "Number of Estimators : 100\n",
      "NDCG Score : 0.9372843247428133\n"
     ]
    }
   ],
   "source": [
    "#Building the model \n",
    "from xgboost import XGBClassifier\n",
    "     \n",
    "xgb = XGBClassifier(max_depth=1, n_estimators=100)\n",
    "xgb.fit(X_tr,y_tr)\n",
    "prob_xgb = xgb.predict_proba(X_test)\n",
    "score_xgb = ndcg_score(y_test, prob_xgb, k=5)\n",
    "print (\"Depth of tree : {}\".format(depth))\n",
    "print (\"Number of Estimators : {}\".format(100))\n",
    "print (\"NDCG Score : {}\".format(0.9372843247428133))"
   ]
  },
  {
   "cell_type": "markdown",
   "metadata": {
    "id": "z-aLLGCpPo38"
   },
   "source": [
    "The above XGB model is giving the best NDCG score of 0.9372843247428133 with hyperparameter depth as 1 and n_estimators as 100"
   ]
  },
  {
   "cell_type": "markdown",
   "metadata": {
    "id": "pCGkGTavNjqo"
   },
   "source": [
    "# Building custom stacking classifier"
   ]
  },
  {
   "cell_type": "code",
   "execution_count": 36,
   "metadata": {
    "id": "lntkZS_pNsQS"
   },
   "outputs": [],
   "source": [
    "#spliting the training data into train(80%) and test(20%)\n",
    "X_train, X_test, y_train, y_test = train_test_split(X_tr, y_tr, test_size=0.2, random_state=42)"
   ]
  },
  {
   "cell_type": "code",
   "execution_count": 37,
   "metadata": {
    "id": "IeP6zkubCzak"
   },
   "outputs": [],
   "source": [
    "#importing libraries\n",
    "from sklearn import svm\n",
    "from sklearn.linear_model import LogisticRegression\n",
    "from sklearn.neighbors import KNeighborsClassifier\n",
    "from sklearn.naive_bayes import GaussianNB\n",
    "from sklearn.ensemble import RandomForestClassifier\n",
    "from sklearn.tree import DecisionTreeClassifier\n",
    "from xgboost import XGBClassifier\n",
    "from tqdm import tqdm\n",
    "\n",
    "#loading the models\n",
    "knn = KNeighborsClassifier(n_neighbors=5)\n",
    "lr = LogisticRegression()\n",
    "rf1 = RandomForestClassifier(n_estimators=100, max_depth=3)\n",
    "dt = DecisionTreeClassifier(max_depth=3, min_samples_split = 50 )\n",
    "rf2 = RandomForestClassifier(n_estimators=50, max_depth=2)\n",
    "nb = GaussianNB()\n",
    "xgb = XGBClassifier(max_depth=2, n_estimators=50)\n",
    "\n",
    "baseline_models=[knn,rf1,dt,rf2,nb,xgb]\n",
    "metamodel=lr"
   ]
  },
  {
   "cell_type": "code",
   "execution_count": 38,
   "metadata": {
    "id": "GAVcfEykeM3P"
   },
   "outputs": [],
   "source": [
    "# Building custom stacking classifier\n",
    "\n",
    "class Stacking_classifier():\n",
    "    def __init__(self,val,estimators,metamodel):\n",
    "        self.estimators=estimators\n",
    "        self.metamodel=metamodel\n",
    "        self.val=val   \n",
    "        \n",
    "    def fit(self,x,y):\n",
    "        #spliting the training data into train(50) and test(50)\n",
    "        self.x=x\n",
    "        self.y=y\n",
    "        D1, D2 , D1_val, D2_val = train_test_split(self.x , self.y , test_size=0.5, random_state=42)\n",
    "\n",
    "        # Stacking the  D_train and D_test with target values\n",
    "        D1_val=D1_val.reshape(-1,1)\n",
    "        D2_val=D2_val.reshape(-1,1)\n",
    "        Data1=hstack((D1, D1_val))\n",
    "        Data2=hstack((D2, D2_val))\n",
    "\n",
    "        #Creating sample data sets from Data1\n",
    "        rng = np.random.default_rng()\n",
    "        D_sample=[]\n",
    "        for i in range(self.val):\n",
    "            chs=rng.choice(Data1.toarray(),size=20000)\n",
    "            D_sample.append(chs)\n",
    "\n",
    "        #building custom stacking classifier\n",
    "        Data2=Data2.toarray()\n",
    "        d2_y = Data2[:,-1]\n",
    "        d2_X = np.delete( Data2, -1 , axis=1)\n",
    "        predictions=[]\n",
    "        for i in tqdm(range(len(self.estimators))):\n",
    "            y_sample = D_sample[i][:,-1]\n",
    "            X_sample =np.delete(D_sample[i], -1 , axis=1)\n",
    "            self.estimators[i].fit(X_sample,y_sample)\n",
    "            pred = self.estimators[i].predict_proba(d2_X)\n",
    "            predictions.append(pred)\n",
    "        prediction = np.concatenate((predictions),axis=1)\n",
    "        self.meta= metamodel.fit(prediction,d2_y)\n",
    "    \n",
    "    def proba_predict(self,X_test):\n",
    "      #Getting predictions from the stacked models\n",
    "        pred=[]\n",
    "        for i in range(len(self.estimators)):\n",
    "            p = self.estimators[i].predict_proba(X_test.toarray())\n",
    "            pred.append(p)\n",
    "        data = np.concatenate((pred),axis=1)\n",
    "        proba = self.meta.predict_proba(data)\n",
    "        return proba "
   ]
  },
  {
   "cell_type": "code",
   "execution_count": 39,
   "metadata": {
    "colab": {
     "base_uri": "https://localhost:8080/"
    },
    "id": "_w--H6o8eNFb",
    "outputId": "8b980cc4-d17f-45e0-8ed5-367726741ea4"
   },
   "outputs": [
    {
     "name": "stderr",
     "output_type": "stream",
     "text": [
      "100%|██████████| 6/6 [13:21<00:00, 133.65s/it]\n"
     ]
    }
   ],
   "source": [
    "model=Stacking_classifier(6,baseline_models,metamodel)\n",
    "model.fit(X_train,y_train)\n",
    "predictions=model.proba_predict(X_test)"
   ]
  },
  {
   "cell_type": "code",
   "execution_count": 40,
   "metadata": {
    "colab": {
     "base_uri": "https://localhost:8080/"
    },
    "id": "m1HUz9-weNHt",
    "outputId": "b816854d-387a-4457-bf62-c67902473cef"
   },
   "outputs": [
    {
     "data": {
      "text/plain": [
       "0.9357217804648186"
      ]
     },
     "execution_count": 40,
     "metadata": {
      "tags": []
     },
     "output_type": "execute_result"
    }
   ],
   "source": [
    "#Calcualting the ndcg score on validation data\n",
    "score = ndcg_score(y_test, predictions, k=5)\n",
    "score"
   ]
  },
  {
   "cell_type": "markdown",
   "metadata": {
    "id": "nf6TrNHyM_pi"
   },
   "source": [
    "### Our custom stacking classifier is giving good results but not better than xgboost.This above model is giving NDCG score of 0.9363627985864891 on valiadtion test data."
   ]
  },
  {
   "cell_type": "code",
   "execution_count": 41,
   "metadata": {
    "colab": {
     "base_uri": "https://localhost:8080/"
    },
    "id": "BAVXqmwpVXJ2",
    "outputId": "342a65c2-e8c3-49d1-b2f0-6c9497fa7efe"
   },
   "outputs": [
    {
     "name": "stdout",
     "output_type": "stream",
     "text": [
      "+----------------------------+---------------------+\n",
      "|           Model            |      NDCG Score     |\n",
      "+----------------------------+---------------------+\n",
      "|             NB             | 0.32258766416380186 |\n",
      "|            KNN             |  0.9297404275673927 |\n",
      "|    Logistic Regression     |  0.9289981193239987 |\n",
      "|            SVM             |  0.9289981193239987 |\n",
      "|       Random Forest        |  0.8253395910798712 |\n",
      "|       Decision Trees       |  0.9359998267403783 |\n",
      "|          XGBOOST           |  0.9372843247428133 |\n",
      "| custom stacking classifier |  0.9357217804648186 |\n",
      "+----------------------------+---------------------+\n"
     ]
    }
   ],
   "source": [
    "#Comparing all model scores\n",
    "from prettytable import PrettyTable\n",
    "x = PrettyTable()\n",
    "x.field_names = [\"Model\", \"NDCG Score\"]\n",
    "x.add_row([ 'NB',0.32258766416380186])\n",
    "x.add_row([ 'KNN',0.9297404275673927])\n",
    "x.add_row([ 'Logistic Regression',0.9289981193239987])\n",
    "x.add_row([ 'SVM',0.9289981193239987])\n",
    "x.add_row([ 'Random Forest',0.8253395910798712])\n",
    "x.add_row([ 'Decision Trees',0.9359998267403783])\n",
    "x.add_row([ 'XGBOOST',0.9372843247428133])\n",
    "x.add_row([ 'custom stacking classifier',0.9357217804648186])\n",
    "print(x)"
   ]
  },
  {
   "cell_type": "markdown",
   "metadata": {
    "id": "15IT1SbZPjg7"
   },
   "source": [
    "# Conclusion"
   ]
  },
  {
   "cell_type": "markdown",
   "metadata": {
    "id": "3EAqIAO3PofW"
   },
   "source": [
    "After experimenting with all the above models and after building custom stacking  classifier we can see the XGB boost is giving the best results 0.9372843247428133 in terms of NDCG score."
   ]
  },
  {
   "cell_type": "code",
   "execution_count": null,
   "metadata": {
    "id": "Ix5bSjadJzvF"
   },
   "outputs": [],
   "source": [
    "#Getting prediction for actual test data\n",
    "final_predictions=model.proba_predict(test)"
   ]
  },
  {
   "cell_type": "code",
   "execution_count": null,
   "metadata": {
    "id": "R8Am0CtVOWx_"
   },
   "outputs": [],
   "source": [
    "#Taking the 5 classes with highest probabilities\n",
    "from sklearn import preprocessing \n",
    "id_test = list(test.user_id)\n",
    "ids = []\n",
    "countries = []\n",
    "for i in range(len(id_test)):\n",
    "    idx = id_test[i]\n",
    "    ids += [idx] * 5\n",
    "    countries += label_encoder.inverse_transform(np.argsort(final_predictions[i])[::-1])[:5].tolist()"
   ]
  },
  {
   "cell_type": "code",
   "execution_count": null,
   "metadata": {
    "colab": {
     "base_uri": "https://localhost:8080/",
     "height": 204
    },
    "id": "wL9BP6O1OWx_",
    "outputId": "bc72224f-b4d9-4aed-bbb0-405babd65996"
   },
   "outputs": [
    {
     "data": {
      "text/html": [
       "<div>\n",
       "<style scoped>\n",
       "    .dataframe tbody tr th:only-of-type {\n",
       "        vertical-align: middle;\n",
       "    }\n",
       "\n",
       "    .dataframe tbody tr th {\n",
       "        vertical-align: top;\n",
       "    }\n",
       "\n",
       "    .dataframe thead th {\n",
       "        text-align: right;\n",
       "    }\n",
       "</style>\n",
       "<table border=\"1\" class=\"dataframe\">\n",
       "  <thead>\n",
       "    <tr style=\"text-align: right;\">\n",
       "      <th></th>\n",
       "      <th>id</th>\n",
       "      <th>country</th>\n",
       "    </tr>\n",
       "  </thead>\n",
       "  <tbody>\n",
       "    <tr>\n",
       "      <th>0</th>\n",
       "      <td>5uwns89zht</td>\n",
       "      <td>NDF</td>\n",
       "    </tr>\n",
       "    <tr>\n",
       "      <th>1</th>\n",
       "      <td>5uwns89zht</td>\n",
       "      <td>US</td>\n",
       "    </tr>\n",
       "    <tr>\n",
       "      <th>2</th>\n",
       "      <td>5uwns89zht</td>\n",
       "      <td>other</td>\n",
       "    </tr>\n",
       "    <tr>\n",
       "      <th>3</th>\n",
       "      <td>5uwns89zht</td>\n",
       "      <td>FR</td>\n",
       "    </tr>\n",
       "    <tr>\n",
       "      <th>4</th>\n",
       "      <td>5uwns89zht</td>\n",
       "      <td>ES</td>\n",
       "    </tr>\n",
       "  </tbody>\n",
       "</table>\n",
       "</div>"
      ],
      "text/plain": [
       "           id country\n",
       "0  5uwns89zht     NDF\n",
       "1  5uwns89zht      US\n",
       "2  5uwns89zht   other\n",
       "3  5uwns89zht      FR\n",
       "4  5uwns89zht      ES"
      ]
     },
     "execution_count": 50,
     "metadata": {
      "tags": []
     },
     "output_type": "execute_result"
    }
   ],
   "source": [
    "#Generating final output file\n",
    "output = pd.DataFrame(np.column_stack((ids, countries)), columns=['id', 'country'])\n",
    "output.head()"
   ]
  },
  {
   "cell_type": "code",
   "execution_count": null,
   "metadata": {
    "id": "ks2JQ3jHOWx_"
   },
   "outputs": [],
   "source": [
    "output.to_csv('/content/drive/MyDrive/Stack_models/output.csv',  index=False)"
   ]
  }
 ],
 "metadata": {
  "accelerator": "GPU",
  "colab": {
   "name": "modeling.ipynb",
   "provenance": []
  },
  "kernelspec": {
   "display_name": "Python 3",
   "language": "python",
   "name": "python3"
  },
  "language_info": {
   "codemirror_mode": {
    "name": "ipython",
    "version": 3
   },
   "file_extension": ".py",
   "mimetype": "text/x-python",
   "name": "python",
   "nbconvert_exporter": "python",
   "pygments_lexer": "ipython3",
   "version": "3.7.6"
  }
 },
 "nbformat": 4,
 "nbformat_minor": 1
}
